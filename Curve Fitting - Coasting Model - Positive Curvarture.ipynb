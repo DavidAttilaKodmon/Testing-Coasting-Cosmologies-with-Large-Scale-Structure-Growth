{
 "cells": [
  {
   "cell_type": "markdown",
   "metadata": {},
   "source": [
    "# Fitting the $f\\sigma_8(z)$ curve of a coasting universe with positive curvature to $f\\sigma_8$ values derived from RSD measurements"
   ]
  },
  {
   "cell_type": "code",
   "execution_count": null,
   "metadata": {},
   "outputs": [],
   "source": [
    "#Importing relevant packages\n",
    "import numpy as np\n",
    "import emcee\n",
    "from scipy.optimize import minimize\n",
    "from numpy import genfromtxt\n",
    "from scipy.integrate import quad\n",
    "from scipy.special import kn\n",
    "from tqdm import tqdm"
   ]
  },
  {
   "cell_type": "markdown",
   "metadata": {},
   "source": [
    "## Recalibration/homogenization of the $f\\sigma_8$ data\n",
    "\n",
    "In order to fit a given model's $f\\sigma_8(z)$ curve to the dataset, the latter must be recalibrated to match the model, since the data were obtained under the assumption of a fiducial cosmology which is different from the model. The recalibration involves the calculation of a correction factor, $q(z, \\Omega_\\mathrm{m,0}, \\Omega^\\mathrm{fid}_\\mathrm{m,0}) = \\frac{H(z)D_\\mathrm{A}(z)}{H^\\mathrm{fid}(z)D^\\mathrm{fid}_{\\mathrm{A}}(z)}$, with which the $f\\sigma_8(z)$ values and their uncertainties must be multiplied. For this model, we have \n",
    "- $H^\\mathrm{fid}(z)=H^\\mathrm{fid}_0 \\sqrt{\\Omega^\\mathrm{fid}_{\\mathrm{m,0}}(1+z)^3+\\Omega^\\mathrm{fid}_{k,0}(1+z)^2+\\Omega^\\mathrm{fid}_{\\Lambda,0}}$\n",
    "- $D^\\mathrm{fid}_A(z)=\\frac{c}{H^\\mathrm{fid}_0}\\frac{1}{1+z}\\int_{0}^{z}\\frac{H^\\mathrm{fid}_0}{ H^\\mathrm{fid}(z’)}\\mathrm{d} z’$\n",
    "- $H(z)=H_0(1+z)$\n",
    "- $D_\\mathrm{A}(z)=\\frac{c}{H_0}\\frac{1}{1+z}|\\sin{(\\ln{(1+z)})}|$\n"
   ]
  },
  {
   "cell_type": "code",
   "execution_count": null,
   "metadata": {},
   "outputs": [],
   "source": [
    "#Importing data file\n",
    "originaldata = genfromtxt('fsigma_8_dataset.csv', delimiter=',')\n",
    "z=originaldata[:,0]\n",
    "fs8=originaldata[:,1]\n",
    "dfs8=originaldata[:,2]\n",
    "om=originaldata[:,3]\n",
    "sigfigs=originaldata[:,4]\n",
    "\n",
    "#Initialising converted arrays for recalibrated data points\n",
    "l=len(originaldata)\n",
    "FS8=np.zeros(l)\n",
    "dFS8=np.zeros(l)\n",
    "\n",
    "#Recalibrating the original data set for a coasting cosmology with positive curvature\n",
    "for i in range(l):\n",
    "    \n",
    "    hlin=1+z[i] #hubble parameter in a coasting universe\n",
    "   \n",
    "    dalin=np.abs(np.sin(np.log(1+z[i]))) #angular diameter distance in a coasting universe #angular diameter distance in a coasting universe with positive curvature\n",
    "  \n",
    "    Om=om[i] #Omega_m0 of the fiducial cosmology of the current data point\n",
    "    \n",
    "    hfid=np.sqrt(Om*(1+z[i])**3+1-Om) #Hubble parameter in the fiducial cosmology\n",
    "   \n",
    "    def integrand(x, omega_m0):\n",
    "        return 1/(np.sqrt(omega_m0*(1+x)**3+1-omega_m0)) #integrand of the fiducial angular diameter distance integral\n",
    "    \n",
    "    dafid=quad(integrand, 0, z[i], args=(Om))[0] #fiducial angular diameter distance\n",
    "    \n",
    "    #note that those terms which will cancel in 'correction', \n",
    "    # namely c/(1+z), and the various Hubble parameters H_0, are omitted above, as they are irrelevant\n",
    "    \n",
    "    correction=(hlin/hfid)*(dalin/dafid)\n",
    "    \n",
    "    FS8[i]=fs8[i]*correction\n",
    "    \n",
    "    dFS8[i]=dfs8[i]*correction\n",
    "\n",
    "    \n",
    "#Rounding to corresponding number of significant figures\n",
    "FS8r=np.zeros(l)\n",
    "dFS8r=np.zeros(l)\n",
    "for i in range(l):\n",
    "        nos=int(sigfigs[i]) #\"nos\" refers to \"number of significant (figures)\"\n",
    "        FS8r[i]=np.around(FS8[i],decimals=nos)\n",
    "        dFS8r[i]=np.around(dFS8[i],decimals=nos)\n",
    "\n",
    "#outmatrix=np.array([z,FS8r,dFS8r]).T\n",
    "#outmatrix.reshape(len(z),3)\n",
    "#np.savetxt(\"recalibrated_data_positive_curvature_coasting.csv\", outmatrix, delimiter=\",\")"
   ]
  },
  {
   "cell_type": "markdown",
   "metadata": {},
   "source": [
    "## Curve fitting using the emcee sampler"
   ]
  },
  {
   "cell_type": "markdown",
   "metadata": {},
   "source": [
    "### Defining the log-likelihood function, the priors, and the log-probability functions"
   ]
  },
  {
   "cell_type": "code",
   "execution_count": null,
   "metadata": {},
   "outputs": [],
   "source": [
    "\n",
    "def log_likelihood(theta, z, FS8, dFS8):\n",
    "    q, s = theta\n",
    "    model = -s/kn(1,np.sqrt(6*q))*(0.5*np.sqrt(1+z)*kn(1,np.sqrt(6*q*(1+z))) - 1/4*np.sqrt(6*q)*(1+z)*(kn(0,np.sqrt(6*q*(1+z)))+kn(2,np.sqrt(6*q*(1+z)))))\n",
    "    sigma2 = dFS8**2\n",
    "    return -0.5 * np.sum((FS8 - model) ** 2 / sigma2 + np.log(sigma2))\n",
    "\n",
    "def log_prior(theta):\n",
    "    q, s= theta\n",
    "    if 0 < q < 2 and 0.0 < s < 2:\n",
    "        return 0.0\n",
    "    return -np.inf\n",
    "\n",
    "def log_probability(theta, z, FS8, dFS8):\n",
    "    lp = log_prior(theta)\n",
    "    if not np.isfinite(lp):\n",
    "        return -np.inf\n",
    "    return lp + log_likelihood(theta, z, FS8, dFS8)"
   ]
  },
  {
   "cell_type": "markdown",
   "metadata": {},
   "source": [
    "### Obtaining a position in parameter space from which to start the sampler by computing the maximum likelihood estimates of the parameters $\\Omega_\\mathrm{m,0}$ and $\\sigma_8$."
   ]
  },
  {
   "cell_type": "code",
   "execution_count": null,
   "metadata": {},
   "outputs": [],
   "source": [
    "nll = lambda *args: -log_likelihood(*args)\n",
    "initial = np.array([1, 1])\n",
    "bnds = ((0.000000000000000000000000000001, 2), (0, 2))\n",
    "soln = minimize(nll, initial, args=(z, FS8r, dFS8r), bounds=bnds)\n",
    "q_ml, s_ml = soln.x\n",
    "\n",
    "print(\"Maximum likelihood estimates:\")\n",
    "print(\"q = {0:.5f}\".format(q_ml))\n",
    "print(\"s = {0:.5f}\".format(s_ml))"
   ]
  },
  {
   "cell_type": "markdown",
   "metadata": {},
   "source": [
    "### Performing the curve fitting"
   ]
  },
  {
   "cell_type": "code",
   "execution_count": null,
   "metadata": {},
   "outputs": [],
   "source": [
    "#Runing the sampler\n",
    "\n",
    "walkers=500\n",
    "iters=100000\n",
    "\n",
    "pos = soln.x + 1e-5 * np.random.randn(walkers, 2)\n",
    "nwalkers, ndim = pos.shape\n",
    "\n",
    "sampler = emcee.EnsembleSampler(\n",
    "    nwalkers, ndim, log_probability, args=(z, FS8r, dFS8r)\n",
    ")\n",
    "sampler.run_mcmc(pos, iters, progress=True)\n",
    "\n",
    "#extracting best fit parameters\n",
    "tau = sampler.get_autocorr_time()\n",
    "\n",
    "flat_samples = sampler.get_chain(discard=int((4*np.max(tau))), thin=int((0.5*np.min(tau))), flat=True)\n",
    "print(flat_samples.shape)\n",
    "np.savetxt(\"postive curvature coasting chain.csv\", flat_samples,  delimiter = \",\") #saved in case one should wish to analyze the chain at a later date\n",
    "\n",
    "#extracting the best-fit parameters\n",
    "labels = [\"q\", \"s\"]\n",
    "from IPython.display import display, Math\n",
    "ndim=2\n",
    "medians=np.zeros(ndim)\n",
    "for i in range(ndim):\n",
    "    mcmc = np.percentile(flat_samples[:, i], [16, 50, 84])\n",
    "    qw = np.diff(mcmc)\n",
    "    medians[i]=mcmc[1]\n",
    "    txt = \"\\mathrm{{{3}}} = {0:.3f}_{{-{1:.3f}}}^{{{2:.3f}}}\"\n",
    "    txt = txt.format(mcmc[1], qw[0], qw[1], labels[i])\n",
    "    display(Math(txt))\n",
    "\n",
    "\n",
    "#extracting the best-fit value of S_8 from the posterior distributions\n",
    "s8vals=flat_samples[:,1]*np.sqrt(flat_samples[:,0]/0.3)\n",
    "np.mean(s8vals)\n",
    "s8percentiles = np.percentile(s8vals, [16, 50, 84])\n",
    "qw = np.diff(s8percentiles)\n",
    "medians=mcmc[1]\n",
    "txt = \"\\mathrm{{{3}}} = {0:.3f}_{{-{1:.3f}}}^{{{2:.3f}}}\"\n",
    "txt = txt.format(s8percentiles[1], qw[0], qw[1], \"S8\")\n",
    "display(Math(txt))"
   ]
  }
 ],
 "metadata": {
  "language_info": {
   "name": "python"
  }
 },
 "nbformat": 4,
 "nbformat_minor": 2
}
